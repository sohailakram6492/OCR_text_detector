{
 "cells": [
  {
   "cell_type": "code",
   "execution_count": 2,
   "id": "2649533a",
   "metadata": {},
   "outputs": [
    {
     "name": "stdout",
     "output_type": "stream",
     "text": [
      "Collecting imutils\n",
      "  Downloading imutils-0.5.4.tar.gz (17 kB)\n",
      "  Preparing metadata (setup.py): started\n",
      "  Preparing metadata (setup.py): finished with status 'done'\n",
      "Building wheels for collected packages: imutils\n",
      "  Building wheel for imutils (setup.py): started\n",
      "  Building wheel for imutils (setup.py): finished with status 'done'\n",
      "  Created wheel for imutils: filename=imutils-0.5.4-py3-none-any.whl size=25860 sha256=b3ff96fb67cb75553387aaa8aaabe51ed7772e7f3aca78c39fbc61a5e1ebfef1\n",
      "  Stored in directory: c:\\users\\sns\\appdata\\local\\pip\\cache\\wheels\\86\\d7\\0a\\4923351ed1cec5d5e24c1eaf8905567b02a0343b24aa873df2\n",
      "Successfully built imutils\n",
      "Installing collected packages: imutils\n",
      "Successfully installed imutils-0.5.4\n"
     ]
    }
   ],
   "source": [
    "!pip install imutils"
   ]
  },
  {
   "cell_type": "code",
   "execution_count": 2,
   "id": "3f998217",
   "metadata": {},
   "outputs": [
    {
     "name": "stdout",
     "output_type": "stream",
     "text": [
      "1.3299846649169922\n"
     ]
    },
    {
     "data": {
      "text/plain": [
       "True"
      ]
     },
     "execution_count": 2,
     "metadata": {},
     "output_type": "execute_result"
    }
   ],
   "source": [
    "import os, sys\n",
    "import numpy as np\n",
    "import cv2\n",
    "import time\n",
    "from imutils.object_detection import non_max_suppression\n",
    "import pickle\n",
    "from PIL import Image\n",
    "\n",
    "def east_detect(image):\n",
    "    layerNames = [\"feature_fusion/Conv_7/Sigmoid\",\"feature_fusion/concat_3\"]\n",
    "    orig = image.copy()\n",
    "    \n",
    "    if len(image.shape) == 2:\n",
    "        image = cv2.cvtColor(image, cv2.COLOR_GRAY2RGB)\n",
    "    \n",
    "    (H, W) = image.shape[:2]\n",
    "    \n",
    "    # set the new width and height and then determine the ratio in change\n",
    "    # for both the width and height: Should be multiple of 32\n",
    "    (newW, newH) = (320, 320)\n",
    "    \n",
    "    rW = W / float(newW)\n",
    "    rH = H / float(newH)\n",
    "    \n",
    "    # resize the image and grab the new image dimensions\n",
    "    image = cv2.resize(image, (newW, newH))\n",
    "    \n",
    "    (H, W) = image.shape[:2]\n",
    "    \n",
    "    net = cv2.dnn.readNet(\"frozen_east_text_detection.pb\")\n",
    "    \n",
    "    blob = cv2.dnn.blobFromImage(image, 1.0, (W, H),\n",
    "    \t(123.68, 116.78, 103.94), swapRB=True, crop=False)\n",
    "    \n",
    "    start = time.time()\n",
    "    \n",
    "    net.setInput(blob)\n",
    "    \n",
    "    (scores, geometry) = net.forward(layerNames)\n",
    "    \n",
    "    (numRows, numCols) = scores.shape[2:4]\n",
    "    rects = []\n",
    "    confidences = []\n",
    "    # loop over the number of rows\n",
    "    for y in range(0, numRows):\n",
    "        # extract the scores (probabilities), followed by the geometrical\n",
    "        # data used to derive potential bounding box coordinates that\n",
    "        # surround text\n",
    "        scoresData = scores[0, 0, y]\n",
    "        xData0 = geometry[0, 0, y]\n",
    "        xData1 = geometry[0, 1, y]\n",
    "        xData2 = geometry[0, 2, y]\n",
    "        xData3 = geometry[0, 3, y]\n",
    "        anglesData = geometry[0, 4, y]\n",
    "    \n",
    "        for x in range(0, numCols):\n",
    "    \t\t# if our score does not have sufficient probability, ignore it\n",
    "            # Set minimum confidence as required\n",
    "            if scoresData[x] < 0.5:\n",
    "                continue\n",
    "    \t\t# compute the offset factor as our resulting feature maps will\n",
    "            #  x smaller than the input image\n",
    "            (offsetX, offsetY) = (x * 4.0, y * 4.0)\n",
    "            # extract the rotation angle for the prediction and then\n",
    "            # compute the sin and cosine\n",
    "            angle = anglesData[x]\n",
    "            cos = np.cos(angle)\n",
    "            sin = np.sin(angle)\n",
    "            # use the geometry volume to derive the width and height of\n",
    "            # the bounding box\n",
    "            h = xData0[x] + xData2[x]\n",
    "            w = xData1[x] + xData3[x]\n",
    "            # compute both the starting and ending (x, y)-coordinates for\n",
    "            # the text prediction bounding box\n",
    "            endX = int(offsetX + (cos * xData1[x]) + (sin * xData2[x]))\n",
    "            endY = int(offsetY - (sin * xData1[x]) + (cos * xData2[x]))\n",
    "            startX = int(endX - w)\n",
    "            startY = int(endY - h)\n",
    "            # add the bounding box coordinates and probability score to\n",
    "            # our respective lists\n",
    "            rects.append((startX, startY, endX, endY))\n",
    "            confidences.append(scoresData[x])\n",
    "                        \n",
    "    boxes = non_max_suppression(np.array(rects), probs=confidences)\n",
    "    # loop over the bounding boxes\n",
    "    for (startX, startY, endX, endY) in boxes:\n",
    "# scale the bounding box coordinates based on the respective\n",
    "# ratios\n",
    "    \tstartX = int(startX * rW)\n",
    "    \tstartY = int(startY * rH)\n",
    "    \tendX = int(endX * rW)\n",
    "    \tendY = int(endY * rH)\n",
    "    \t# draw the bounding box on the image\n",
    "    \tcv2.rectangle(orig, (startX, startY), (endX, endY), (0, 255, 0), 2)\n",
    "    \n",
    "    \n",
    "    print(time.time() - start)\n",
    "    return orig\n",
    "image = cv2.imread(r\"NIC Images/1.jpg\")\n",
    "out_image = east_detect(image)\n",
    "cv2.imwrite(r\"NIC_Images/1.jpg\", out_image)"
   ]
  },
  {
   "cell_type": "code",
   "execution_count": 4,
   "id": "ba82c60b",
   "metadata": {},
   "outputs": [
    {
     "data": {
      "text/plain": [
       "array([[[167, 166, 176],\n",
       "        [167, 166, 176],\n",
       "        [166, 165, 175],\n",
       "        ...,\n",
       "        [149, 151, 159],\n",
       "        [151, 150, 159],\n",
       "        [151, 150, 159]],\n",
       "\n",
       "       [[167, 166, 176],\n",
       "        [167, 166, 176],\n",
       "        [166, 165, 175],\n",
       "        ...,\n",
       "        [149, 151, 159],\n",
       "        [151, 150, 159],\n",
       "        [151, 150, 159]],\n",
       "\n",
       "       [[167, 166, 176],\n",
       "        [167, 166, 176],\n",
       "        [166, 165, 175],\n",
       "        ...,\n",
       "        [149, 150, 160],\n",
       "        [151, 150, 160],\n",
       "        [151, 150, 160]],\n",
       "\n",
       "       ...,\n",
       "\n",
       "       [[148, 144, 150],\n",
       "        [146, 142, 148],\n",
       "        [142, 138, 144],\n",
       "        ...,\n",
       "        [156, 154, 160],\n",
       "        [154, 154, 160],\n",
       "        [154, 154, 160]],\n",
       "\n",
       "       [[144, 147, 151],\n",
       "        [144, 147, 151],\n",
       "        [143, 146, 150],\n",
       "        ...,\n",
       "        [154, 152, 158],\n",
       "        [154, 152, 158],\n",
       "        [154, 152, 158]],\n",
       "\n",
       "       [[141, 149, 149],\n",
       "        [141, 149, 149],\n",
       "        [142, 147, 148],\n",
       "        ...,\n",
       "        [154, 151, 160],\n",
       "        [154, 152, 158],\n",
       "        [154, 152, 158]]], dtype=uint8)"
      ]
     },
     "execution_count": 4,
     "metadata": {},
     "output_type": "execute_result"
    }
   ],
   "source": [
    "out_image"
   ]
  },
  {
   "cell_type": "code",
   "execution_count": 5,
   "id": "c9e55156",
   "metadata": {},
   "outputs": [],
   "source": [
    "im2 = Image.fromarray(out_image)\n",
    "im2.show()"
   ]
  }
 ],
 "metadata": {
  "kernelspec": {
   "display_name": "Python 3",
   "language": "python",
   "name": "python3"
  },
  "language_info": {
   "codemirror_mode": {
    "name": "ipython",
    "version": 3
   },
   "file_extension": ".py",
   "mimetype": "text/x-python",
   "name": "python",
   "nbconvert_exporter": "python",
   "pygments_lexer": "ipython3",
   "version": "3.7.0"
  }
 },
 "nbformat": 4,
 "nbformat_minor": 5
}
